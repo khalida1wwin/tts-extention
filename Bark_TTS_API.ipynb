{
  "nbformat": 4,
  "nbformat_minor": 0,
  "metadata": {
    "colab": {
      "provenance": []
    },
    "kernelspec": {
      "name": "python3",
      "display_name": "Python 3"
    },
    "language_info": {
      "name": "python"
    },
    "accelerator": "GPU",
    "gpuClass": "standard"
  },
  "cells": [
    {
      "cell_type": "code",
      "execution_count": null,
      "metadata": {
        "id": "mJVXcdwgS4K4"
      },
      "outputs": [],
      "source": [
        "!pip install git+https://github.com/suno-ai/bark.git && \\\n",
        "  pip uninstall -y torch torchvision torchaudio && \\\n",
        "  pip install --pre torch torchvision torchaudio --index-url https://download.pytorch.org/whl/nightly/cu118\n",
        "\n",
        "!pip install flask flask-ngrok\n",
        "!pip install flask-cors\n",
        "!pip install pyngrok\n",
        "!wget https://bin.equinox.io/c/4VmDzA7iaHb/ngrok-stable-linux-amd64.zip\n",
        "!unzip ngrok-stable-linux-amd64.zip\n",
        "!pip install --upgrade flask\n",
        "import subprocess\n",
        "\n",
        "subprocess.Popen(['./ngrok', 'http', '5000'])\n",
        "\n",
        "from bark import SAMPLE_RATE, generate_audio, preload_models\n",
        "from IPython.display import Audio\n",
        "\n",
        "preload_models()"
      ]
    },
    {
      "cell_type": "markdown",
      "source": [
        "# Get the API link from this cell\n",
        "Note: if the link doesn't start with 'https' and start with only 'http' Restart the  cell or it will not work! it might take a couple restarts to get a link with https"
      ],
      "metadata": {
        "id": "SI49bLFkmoCm"
      }
    },
    {
      "cell_type": "code",
      "source": [
        "\n",
        "get_ipython().system_raw('./ngrok http 5000 &')\n",
        "!sleep 1\n",
        "!curl -s http://localhost:4040/api/tunnels | python3 -c \\\n",
        "    \"import sys, json; print(json.load(sys.stdin)['tunnels'][0]['public_url'])\"\n",
        "print(\"if this ^ doesn't start with 'https' and start with only 'http' Restart the this cell or it will not work!\")\n",
        "print(\"Also this is the link that you need for the extention\")\n",
        "from scipy.io.wavfile import write\n",
        "\n",
        "from flask import Flask, request, make_response\n",
        "import numpy as np\n",
        "from flask import Flask, request, jsonify\n",
        "from bark import SAMPLE_RATE, generate_audio, preload_models\n",
        "import base64\n",
        "import io\n",
        "from flask_cors import CORS\n",
        "from flask import Flask, request, jsonify\n",
        "from flask_cors import CORS\n",
        "import numpy as np\n",
        "from scipy.io.wavfile import write\n",
        "import io\n",
        "import base64\n",
        "from bark.generation import SUPPORTED_LANGS\n",
        "AVAILABLE_PROMPTS = [\"Unconditional\", \"Announcer\"]\n",
        "PROMPT_LOOKUP = {}\n",
        "DEBUG_MODE = False\n",
        "for _, lang in SUPPORTED_LANGS:\n",
        "    for n in range(10):\n",
        "        label = f\"Speaker {n} ({lang})\"\n",
        "        AVAILABLE_PROMPTS.append(label)\n",
        "        PROMPT_LOOKUP[label] = f\"{lang}_speaker_{n}\"\n",
        "PROMPT_LOOKUP[\"Unconditional\"] = None\n",
        "PROMPT_LOOKUP[\"Announcer\"] = \"announcer\"\n",
        "\n",
        "app = Flask(__name__)\n",
        "CORS(app)\n",
        "def gen_tts(text, history_prompt):#, temp_semantic, temp_waveform):\n",
        "    history_prompt = PROMPT_LOOKUP[history_prompt]\n",
        "    if DEBUG_MODE:\n",
        "        audio_arr = np.zeros(SAMPLE_RATE)\n",
        "    else:\n",
        "        audio_arr = generate_audio(text, history_prompt=history_prompt)#, text_temp=temp_semantic, waveform_temp=temp_waveform)\n",
        "    audio_arr = (audio_arr * 32767).astype(np.int16)\n",
        "    return (SAMPLE_RATE, audio_arr)\n",
        "@app.route('/synthesize', methods=['POST'])\n",
        "def synthesize():\n",
        "    text = request.form.get('text')\n",
        "\n",
        "    print(\"text:\",text)\n",
        "    history_prompt = request.form.get('history_prompt')\n",
        "    print(\"history_prompt:\",history_prompt)\n",
        "    sample_rate, audio_arr = gen_tts(text, history_prompt)\n",
        "\n",
        "    audio_bytes = io.BytesIO()\n",
        "    write(audio_bytes, sample_rate, audio_arr)\n",
        "    audio_bytes.seek(0)\n",
        "    audio_base64 = base64.b64encode(audio_bytes.read()).decode('utf-8')\n",
        "\n",
        "    return jsonify({'audio_data': audio_base64})\n",
        "\n",
        "\n",
        "if __name__ == '__main__':\n",
        "    preload_models()\n",
        "    app.run(host='0.0.0.0', port=5000, debug=True, use_reloader=False)"
      ],
      "metadata": {
        "id": "2eJ139KvTcTD"
      },
      "execution_count": null,
      "outputs": []
    }
  ]
}